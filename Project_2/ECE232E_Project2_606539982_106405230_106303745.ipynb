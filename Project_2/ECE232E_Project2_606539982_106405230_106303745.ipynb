{
  "nbformat": 4,
  "nbformat_minor": 0,
  "metadata": {
    "colab": {
      "provenance": []
    },
    "kernelspec": {
      "name": "python3",
      "display_name": "Python 3"
    },
    "language_info": {
      "name": "python"
    }
  },
  "cells": [
    {
      "cell_type": "markdown",
      "source": [
        "#Question 1"
      ],
      "metadata": {
        "id": "TDyMaC0FbVDH"
      }
    },
    {
      "cell_type": "code",
      "execution_count": null,
      "metadata": {
        "id": "gGYlcvcrSCBt"
      },
      "outputs": [],
      "source": []
    },
    {
      "cell_type": "markdown",
      "source": [
        "# Question 2\n"
      ],
      "metadata": {
        "id": "1G-EyhnFblhN"
      }
    },
    {
      "cell_type": "code",
      "source": [],
      "metadata": {
        "id": "FkNtXJjnbrIe"
      },
      "execution_count": null,
      "outputs": []
    },
    {
      "cell_type": "markdown",
      "source": [
        "# Question 3"
      ],
      "metadata": {
        "id": "LY791eYkbrfV"
      }
    },
    {
      "cell_type": "code",
      "source": [],
      "metadata": {
        "id": "eyBZ-zYcbsXo"
      },
      "execution_count": null,
      "outputs": []
    },
    {
      "cell_type": "markdown",
      "source": [
        "# Question 4"
      ],
      "metadata": {
        "id": "hFvPEYR4buMu"
      }
    },
    {
      "cell_type": "code",
      "source": [],
      "metadata": {
        "id": "Ptwuh_SZbt3u"
      },
      "execution_count": null,
      "outputs": []
    },
    {
      "cell_type": "markdown",
      "source": [
        "# Question 5"
      ],
      "metadata": {
        "id": "F_BozUU1bvtd"
      }
    },
    {
      "cell_type": "code",
      "source": [],
      "metadata": {
        "id": "yhpfSOmJbxFV"
      },
      "execution_count": null,
      "outputs": []
    },
    {
      "cell_type": "markdown",
      "source": [
        "# Question 6"
      ],
      "metadata": {
        "id": "tf0p3iIWbxUj"
      }
    },
    {
      "cell_type": "code",
      "source": [],
      "metadata": {
        "id": "cBLLQRWjbyeZ"
      },
      "execution_count": null,
      "outputs": []
    },
    {
      "cell_type": "markdown",
      "source": [
        "# Question 7"
      ],
      "metadata": {
        "id": "IsXwGeCXbyxU"
      }
    },
    {
      "cell_type": "code",
      "source": [],
      "metadata": {
        "id": "WCYVSAHcbzvn"
      },
      "execution_count": null,
      "outputs": []
    },
    {
      "cell_type": "markdown",
      "source": [
        "# Question 8"
      ],
      "metadata": {
        "id": "vMeWEZ-Tb0IH"
      }
    },
    {
      "cell_type": "code",
      "source": [],
      "metadata": {
        "id": "TKLzYHErb1fF"
      },
      "execution_count": null,
      "outputs": []
    },
    {
      "cell_type": "markdown",
      "source": [
        "# Question 9"
      ],
      "metadata": {
        "id": "_OLqXLkPb1FX"
      }
    },
    {
      "cell_type": "code",
      "source": [],
      "metadata": {
        "id": "Fy2Ix6FRb3K5"
      },
      "execution_count": null,
      "outputs": []
    },
    {
      "cell_type": "markdown",
      "source": [
        "# Question 10"
      ],
      "metadata": {
        "id": "3moaJoBub3kf"
      }
    },
    {
      "cell_type": "code",
      "source": [],
      "metadata": {
        "id": "IHaQXTsjb435"
      },
      "execution_count": null,
      "outputs": []
    },
    {
      "cell_type": "markdown",
      "source": [
        "# Question 11"
      ],
      "metadata": {
        "id": "m_p7qYDKb5QB"
      }
    },
    {
      "cell_type": "code",
      "source": [],
      "metadata": {
        "id": "LjP5AO1Qb6Uk"
      },
      "execution_count": null,
      "outputs": []
    },
    {
      "cell_type": "markdown",
      "source": [
        "# Question 12"
      ],
      "metadata": {
        "id": "UEMMNSDRb6ty"
      }
    },
    {
      "cell_type": "code",
      "source": [],
      "metadata": {
        "id": "KZw8fTtAb7xP"
      },
      "execution_count": null,
      "outputs": []
    },
    {
      "cell_type": "markdown",
      "source": [
        "# Question 13"
      ],
      "metadata": {
        "id": "caqZ8Ysnb8Of"
      }
    },
    {
      "cell_type": "code",
      "source": [],
      "metadata": {
        "id": "L2XHQLwLb9YI"
      },
      "execution_count": null,
      "outputs": []
    },
    {
      "cell_type": "markdown",
      "source": [
        "# Question 14"
      ],
      "metadata": {
        "id": "DizXpslWb9pU"
      }
    },
    {
      "cell_type": "code",
      "source": [],
      "metadata": {
        "id": "-A-sO0wbb-vb"
      },
      "execution_count": null,
      "outputs": []
    },
    {
      "cell_type": "markdown",
      "source": [
        "# Question 15"
      ],
      "metadata": {
        "id": "38C44DILb_09"
      }
    },
    {
      "cell_type": "code",
      "source": [],
      "metadata": {
        "id": "-IggWJKacA8W"
      },
      "execution_count": null,
      "outputs": []
    },
    {
      "cell_type": "markdown",
      "source": [
        "# Question 16"
      ],
      "metadata": {
        "id": "DNYhNABFcB5f"
      }
    },
    {
      "cell_type": "code",
      "source": [],
      "metadata": {
        "id": "h6-hrZuPcC6d"
      },
      "execution_count": null,
      "outputs": []
    },
    {
      "cell_type": "markdown",
      "source": [
        "# Question 17"
      ],
      "metadata": {
        "id": "ajfRYnrtcDay"
      }
    },
    {
      "cell_type": "code",
      "source": [],
      "metadata": {
        "id": "PM8bSopZcFK0"
      },
      "execution_count": null,
      "outputs": []
    },
    {
      "cell_type": "markdown",
      "source": [
        "# Question 18"
      ],
      "metadata": {
        "id": "IdR_QlUucFxq"
      }
    },
    {
      "cell_type": "code",
      "source": [],
      "metadata": {
        "id": "ZXldD5eJcG4A"
      },
      "execution_count": null,
      "outputs": []
    },
    {
      "cell_type": "markdown",
      "source": [
        "# Question 19"
      ],
      "metadata": {
        "id": "OAH5_fIMcHX5"
      }
    },
    {
      "cell_type": "code",
      "source": [],
      "metadata": {
        "id": "vgYZgDq4cIf1"
      },
      "execution_count": null,
      "outputs": []
    },
    {
      "cell_type": "markdown",
      "source": [
        "# Question 20"
      ],
      "metadata": {
        "id": "HNZcgeaccJFf"
      }
    },
    {
      "cell_type": "code",
      "source": [],
      "metadata": {
        "id": "FbXbkNmacKFM"
      },
      "execution_count": null,
      "outputs": []
    },
    {
      "cell_type": "markdown",
      "source": [
        "# Question 21"
      ],
      "metadata": {
        "id": "uK3eLBFCcKhW"
      }
    },
    {
      "cell_type": "code",
      "source": [],
      "metadata": {
        "id": "yVxphYDBcLrw"
      },
      "execution_count": null,
      "outputs": []
    },
    {
      "cell_type": "markdown",
      "source": [
        "# Question 22"
      ],
      "metadata": {
        "id": "JEpzo_B5cMCT"
      }
    },
    {
      "cell_type": "code",
      "source": [],
      "metadata": {
        "id": "Tvo2xlg7cNme"
      },
      "execution_count": null,
      "outputs": []
    },
    {
      "cell_type": "markdown",
      "source": [
        "# Question 23"
      ],
      "metadata": {
        "id": "cUbSpRb2cOE4"
      }
    },
    {
      "cell_type": "code",
      "source": [],
      "metadata": {
        "id": "kxbUvusKcPH2"
      },
      "execution_count": null,
      "outputs": []
    },
    {
      "cell_type": "markdown",
      "source": [
        "# Question 24"
      ],
      "metadata": {
        "id": "bEnsDT6gcPfx"
      }
    },
    {
      "cell_type": "code",
      "source": [],
      "metadata": {
        "id": "rfsjB_VvcQiy"
      },
      "execution_count": null,
      "outputs": []
    },
    {
      "cell_type": "markdown",
      "source": [
        "# Question 25"
      ],
      "metadata": {
        "id": "eoPkCAJjcRKw"
      }
    },
    {
      "cell_type": "code",
      "source": [],
      "metadata": {
        "id": "atKsA8f8cSW1"
      },
      "execution_count": null,
      "outputs": []
    }
  ]
}