{
  "nbformat": 4,
  "nbformat_minor": 0,
  "metadata": {
    "colab": {
      "provenance": [],
      "toc_visible": true
    },
    "kernelspec": {
      "name": "python3",
      "display_name": "Python 3"
    },
    "language_info": {
      "name": "python"
    }
  },
  "cells": [
    {
      "cell_type": "markdown",
      "source": [
        "# Question 1"
      ],
      "metadata": {
        "id": "KKcHR75rTTzy"
      }
    },
    {
      "cell_type": "code",
      "execution_count": null,
      "metadata": {
        "id": "lrSxVAlLTKCD"
      },
      "outputs": [],
      "source": []
    },
    {
      "cell_type": "markdown",
      "source": [
        "# Question 2"
      ],
      "metadata": {
        "id": "Fr5K_gokTdCD"
      }
    },
    {
      "cell_type": "code",
      "source": [],
      "metadata": {
        "id": "i0WS3IcHTguI"
      },
      "execution_count": null,
      "outputs": []
    },
    {
      "cell_type": "markdown",
      "source": [
        "# Question 3"
      ],
      "metadata": {
        "id": "OgK8hCcKThAW"
      }
    },
    {
      "cell_type": "code",
      "source": [],
      "metadata": {
        "id": "3lUqFoIMTiHn"
      },
      "execution_count": null,
      "outputs": []
    },
    {
      "cell_type": "markdown",
      "source": [
        "# Question 4"
      ],
      "metadata": {
        "id": "EIrbo0AkTiZe"
      }
    },
    {
      "cell_type": "code",
      "source": [],
      "metadata": {
        "id": "naYGuQ15TisM"
      },
      "execution_count": null,
      "outputs": []
    },
    {
      "cell_type": "markdown",
      "source": [
        "# Question 5"
      ],
      "metadata": {
        "id": "MN2ZhX9vTi78"
      }
    },
    {
      "cell_type": "code",
      "source": [],
      "metadata": {
        "id": "UTPrNmJfTjOE"
      },
      "execution_count": null,
      "outputs": []
    },
    {
      "cell_type": "markdown",
      "source": [
        "# Question 6"
      ],
      "metadata": {
        "id": "og0CNPMfTjmT"
      }
    },
    {
      "cell_type": "code",
      "source": [],
      "metadata": {
        "id": "wWOeBJ6pTj7f"
      },
      "execution_count": null,
      "outputs": []
    },
    {
      "cell_type": "markdown",
      "source": [
        "# Question 7"
      ],
      "metadata": {
        "id": "sC7nFg9HTkUq"
      }
    },
    {
      "cell_type": "code",
      "source": [],
      "metadata": {
        "id": "qSvbS4mOTkp1"
      },
      "execution_count": null,
      "outputs": []
    },
    {
      "cell_type": "markdown",
      "source": [
        "# Question 8"
      ],
      "metadata": {
        "id": "6FfdJ-63TlBB"
      }
    },
    {
      "cell_type": "code",
      "source": [],
      "metadata": {
        "id": "Ctmtyjd5TlYN"
      },
      "execution_count": null,
      "outputs": []
    },
    {
      "cell_type": "markdown",
      "source": [
        "# Question 9"
      ],
      "metadata": {
        "id": "V5GFuMKETlzT"
      }
    },
    {
      "cell_type": "code",
      "source": [],
      "metadata": {
        "id": "qUUhKO_ZTmEd"
      },
      "execution_count": null,
      "outputs": []
    },
    {
      "cell_type": "markdown",
      "source": [
        "# Question 10"
      ],
      "metadata": {
        "id": "fIqsiij3TmcP"
      }
    },
    {
      "cell_type": "code",
      "source": [],
      "metadata": {
        "id": "u2gLZl64Tmq_"
      },
      "execution_count": null,
      "outputs": []
    },
    {
      "cell_type": "markdown",
      "source": [
        "# Question 11"
      ],
      "metadata": {
        "id": "gYxwRcZqTnAR"
      }
    },
    {
      "cell_type": "code",
      "source": [],
      "metadata": {
        "id": "LZnxldmHTnXz"
      },
      "execution_count": null,
      "outputs": []
    },
    {
      "cell_type": "markdown",
      "source": [
        "# Question 12"
      ],
      "metadata": {
        "id": "YoRWMe2oTnwk"
      }
    },
    {
      "cell_type": "code",
      "source": [],
      "metadata": {
        "id": "lKSFNfoVToBo"
      },
      "execution_count": null,
      "outputs": []
    },
    {
      "cell_type": "markdown",
      "source": [
        "# Question 13"
      ],
      "metadata": {
        "id": "WAZ7oWBITomf"
      }
    },
    {
      "cell_type": "code",
      "source": [],
      "metadata": {
        "id": "xe9YkGO-To5S"
      },
      "execution_count": null,
      "outputs": []
    },
    {
      "cell_type": "markdown",
      "source": [
        "# Question 14"
      ],
      "metadata": {
        "id": "Ivr0cEivT68R"
      }
    },
    {
      "cell_type": "code",
      "source": [],
      "metadata": {
        "id": "dC-zejjLT7Rx"
      },
      "execution_count": null,
      "outputs": []
    },
    {
      "cell_type": "markdown",
      "source": [
        "# Question 15"
      ],
      "metadata": {
        "id": "H0lhoBfVT71k"
      }
    },
    {
      "cell_type": "code",
      "source": [],
      "metadata": {
        "id": "lcpkTX16T8Gh"
      },
      "execution_count": null,
      "outputs": []
    },
    {
      "cell_type": "markdown",
      "source": [
        "# Question 16"
      ],
      "metadata": {
        "id": "Ib0VkJdcT8fD"
      }
    },
    {
      "cell_type": "code",
      "source": [],
      "metadata": {
        "id": "3q7QlgUZT8v_"
      },
      "execution_count": null,
      "outputs": []
    },
    {
      "cell_type": "markdown",
      "source": [
        "# Question 17"
      ],
      "metadata": {
        "id": "nwlo990FT9E3"
      }
    },
    {
      "cell_type": "code",
      "source": [],
      "metadata": {
        "id": "a--ghXsLT9eJ"
      },
      "execution_count": null,
      "outputs": []
    },
    {
      "cell_type": "markdown",
      "source": [
        "# Question 18"
      ],
      "metadata": {
        "id": "sBIvNkLRT9zc"
      }
    },
    {
      "cell_type": "code",
      "source": [],
      "metadata": {
        "id": "BKuiWizsT-E8"
      },
      "execution_count": null,
      "outputs": []
    },
    {
      "cell_type": "markdown",
      "source": [
        "# Question 19"
      ],
      "metadata": {
        "id": "ZbmMFiuIT-a3"
      }
    },
    {
      "cell_type": "code",
      "source": [],
      "metadata": {
        "id": "e0Hf78-4T-t0"
      },
      "execution_count": null,
      "outputs": []
    },
    {
      "cell_type": "markdown",
      "source": [
        "# Question 20"
      ],
      "metadata": {
        "id": "5kgUeh3CT_Dc"
      }
    },
    {
      "cell_type": "code",
      "source": [],
      "metadata": {
        "id": "blhwLdGmT_Tx"
      },
      "execution_count": null,
      "outputs": []
    },
    {
      "cell_type": "markdown",
      "source": [
        "# Question 21"
      ],
      "metadata": {
        "id": "o0rBImT9T_qQ"
      }
    },
    {
      "cell_type": "code",
      "source": [],
      "metadata": {
        "id": "skZRvEvnT_7G"
      },
      "execution_count": null,
      "outputs": []
    },
    {
      "cell_type": "markdown",
      "source": [
        "# Question 22"
      ],
      "metadata": {
        "id": "wHcUD4-5UATU"
      }
    },
    {
      "cell_type": "code",
      "source": [],
      "metadata": {
        "id": "tVdsDMwPUAy4"
      },
      "execution_count": null,
      "outputs": []
    },
    {
      "cell_type": "markdown",
      "source": [
        "# Question 23"
      ],
      "metadata": {
        "id": "VLxdEgqGUBKE"
      }
    },
    {
      "cell_type": "code",
      "source": [],
      "metadata": {
        "id": "jzZQhuLqUBfK"
      },
      "execution_count": null,
      "outputs": []
    },
    {
      "cell_type": "markdown",
      "source": [
        "# Question 24"
      ],
      "metadata": {
        "id": "O6qQgWpZUB3H"
      }
    },
    {
      "cell_type": "code",
      "source": [],
      "metadata": {
        "id": "y8rmV-t8UCKJ"
      },
      "execution_count": null,
      "outputs": []
    },
    {
      "cell_type": "markdown",
      "source": [
        "# Question 25"
      ],
      "metadata": {
        "id": "3wRvmQKwUCiF"
      }
    },
    {
      "cell_type": "code",
      "source": [],
      "metadata": {
        "id": "vJjZNh9oUC6h"
      },
      "execution_count": null,
      "outputs": []
    }
  ]
}